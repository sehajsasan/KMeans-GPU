{
 "cells": [
  {
   "cell_type": "markdown",
   "id": "104e8e1c-f79f-4ba9-b749-d4a00413c3e8",
   "metadata": {},
   "source": [
    "# KMeans Algorithm GPU batched implementation using Pytorch"
   ]
  },
  {
   "cell_type": "code",
   "execution_count": 1,
   "id": "139e0954-7219-4b5b-99d4-4bec628e3547",
   "metadata": {},
   "outputs": [],
   "source": [
    "import math, matplotlib.pyplot as plt, operator, torch\n",
    "from functools import partial\n",
    "torch.manual_seed(42)\n",
    "torch.set_printoptions(precision=3, linewidth=140, sci_mode=False)\n",
    "from torch.distributions.multivariate_normal import MultivariateNormal\n",
    "from torch import tensor"
   ]
  },
  {
   "cell_type": "markdown",
   "id": "9c505582-362b-4d74-bb60-0e4ac228c983",
   "metadata": {},
   "source": [
    "We're going to pick 6 random points, which we'll call centroids, and for each point we're going to generate 250 random points about it."
   ]
  },
  {
   "cell_type": "code",
   "execution_count": 2,
   "id": "f28f6378-7121-49fd-a381-a1ebeaa719bc",
   "metadata": {},
   "outputs": [
    {
     "data": {
      "text/plain": [
       "tensor([[ 26.759,  29.050],\n",
       "        [ -8.200,  32.151],\n",
       "        [ -7.669,   7.063],\n",
       "        [-17.040,  20.555],\n",
       "        [ 30.854, -25.677],\n",
       "        [ 30.422,   6.551]])"
      ]
     },
     "execution_count": 2,
     "metadata": {},
     "output_type": "execute_result"
    }
   ],
   "source": [
    "n_clusters=6\n",
    "n_samples =250\n",
    "\n",
    "centroids = torch.rand(n_clusters, 2)*70-35\n",
    "centroids\n"
   ]
  },
  {
   "cell_type": "code",
   "execution_count": 3,
   "id": "72ac0d94-3539-4af2-96ad-71e5c1200fc6",
   "metadata": {},
   "outputs": [
    {
     "data": {
      "text/plain": [
       "tensor([[26.204, 26.349],\n",
       "        [25.691, 30.213],\n",
       "        [30.431, 28.693],\n",
       "        ...,\n",
       "        [30.772,  9.323],\n",
       "        [29.354,  3.960],\n",
       "        [31.168,  5.309]], device='cuda:0')"
      ]
     },
     "execution_count": 3,
     "metadata": {},
     "output_type": "execute_result"
    }
   ],
   "source": [
    "def sample(m): return MultivariateNormal(m, torch.diag(tensor([5.,5.]))).sample((n_samples,))\n",
    "slices = [sample(c) for c in centroids]\n",
    "data = torch.cat(slices)\n",
    "data.shape\n",
    "data.to('cuda')"
   ]
  },
  {
   "cell_type": "markdown",
   "id": "e547787b-e40a-422e-bfea-897bb396f1dc",
   "metadata": {},
   "source": [
    "We're going to create a 1D tensor, which will store information about which cluster does the particular data point on that index belongs to "
   ]
  },
  {
   "cell_type": "code",
   "execution_count": 4,
   "id": "3c26faf4-6f1c-4929-ab85-da7fe13f8cbb",
   "metadata": {},
   "outputs": [],
   "source": [
    "#1 select K, initialize assignment\n",
    "K = 6\n",
    "assignment = torch.zeros(data.shape[0])\n",
    "assignment.to('cuda')\n",
    "assignment = assignment.long()\n",
    "\n"
   ]
  },
  {
   "cell_type": "markdown",
   "id": "bd842dfb-9243-4d7a-a4f7-7afdc8e3848e",
   "metadata": {},
   "source": [
    "Now, we will define the batch size and perform their clustering updates on batch of points per iteration on the GPU "
   ]
  },
  {
   "cell_type": "code",
   "execution_count": 5,
   "id": "9c9c7c1f-9852-4a92-a8aa-259460fa320c",
   "metadata": {},
   "outputs": [
    {
     "data": {
      "text/plain": [
       "tensor([[26.204, 26.349],\n",
       "        [25.691, 30.213],\n",
       "        [30.431, 28.693],\n",
       "        [25.647, 30.033],\n",
       "        [31.236, 30.093],\n",
       "        [30.276, 26.987]], device='cuda:0')"
      ]
     },
     "execution_count": 5,
     "metadata": {},
     "output_type": "execute_result"
    }
   ],
   "source": [
    "centroids = data[:K, :].clone()\n",
    "centroids.to('cuda')"
   ]
  },
  {
   "cell_type": "code",
   "execution_count": 6,
   "id": "7f14e139-60ae-4f4d-9b02-32d2d77466f3",
   "metadata": {},
   "outputs": [
    {
     "name": "stdout",
     "output_type": "stream",
     "text": [
      "torch.int64\n"
     ]
    }
   ],
   "source": [
    "\n",
    "# aassignment.long()\n",
    "print(assignment.dtype)"
   ]
  },
  {
   "cell_type": "code",
   "execution_count": 7,
   "id": "46dab9f2-18d6-4c08-bdfc-68f91eb63c51",
   "metadata": {},
   "outputs": [
    {
     "name": "stdout",
     "output_type": "stream",
     "text": [
      "1500\n"
     ]
    }
   ],
   "source": [
    "n = len(data)\n",
    "print(n)\n",
    "bs = 6\n",
    "for i in range(0,n,bs):\n",
    "        s = slice(i, min(i+bs,n))\n",
    "        assignment[s] = ((data[s][:,None] - centroids[None])**2).sum(2).sqrt().argmin(dim=1).long().view(-1)\n",
    "        centroids.scatter_add_(0,assignment[:,None].repeat(1,2),data)\n",
    "        NCs =  torch.bincount(assignment, minlength=K).type_as(centroids).view(K,1)\n",
    "        centroids /= NCs\n",
    "        # print(f\"{i} th iteration centroid and assignment\", centroids,assignment)\n"
   ]
  },
  {
   "cell_type": "code",
   "execution_count": 9,
   "id": "93e19efd-2783-42ef-b26d-1f152c8f3677",
   "metadata": {},
   "outputs": [
    {
     "data": {
      "text/plain": [
       "tensor([[   9.163,   11.553],\n",
       "        [6448.389, 7583.556],\n",
       "        [7638.220, 7202.036],\n",
       "        [6437.297, 7538.334],\n",
       "        [7840.320, 7553.408],\n",
       "        [7599.360, 6773.688]])"
      ]
     },
     "execution_count": 9,
     "metadata": {},
     "output_type": "execute_result"
    }
   ],
   "source": [
    "centroids"
   ]
  },
  {
   "cell_type": "markdown",
   "id": "a3112a1e-26ca-4abd-8a8e-a8b50c79453b",
   "metadata": {},
   "source": [
    "Now let's write a function to plot these data points and see the trends of the clustering"
   ]
  },
  {
   "cell_type": "code",
   "execution_count": 10,
   "id": "2e2a7c66-d8e6-486f-a580-74bcc63e244c",
   "metadata": {},
   "outputs": [],
   "source": [
    "def plot_data_kmeans(centroids, data, assignment, ax=None):\n",
    "    if ax is None: _,ax = plt.subplots()\n",
    "    for i, centroid in enumerate(centroids):\n",
    "        samples = data[assignment==i]\n",
    "        ax.scatter(samples[:,0], samples[:,1], s=1)\n",
    "        ax.plot(*centroid, markersize=10, marker=\"x\", color='k', mew=5)\n",
    "        ax.plot(*centroid, markersize=5, marker=\"x\", color='m', mew=2)"
   ]
  },
  {
   "cell_type": "markdown",
   "id": "6fc0531c-4c0c-483e-9c0e-c258bd39b8a5",
   "metadata": {},
   "source": [
    "Let's put all this in one single function and see how it performs"
   ]
  },
  {
   "cell_type": "code",
   "execution_count": 33,
   "id": "e25607d5-43d4-4607-b279-f78ceff657e0",
   "metadata": {},
   "outputs": [],
   "source": [
    "def kmeans_gpu(data,Cs=None,assignment=None,bs=100,K=6,iteration=10):\n",
    "    \n",
    "    n = len(data)\n",
    "    Cs = data[torch.randint(0, len(data), (K,))]\n",
    "        \n",
    "    # if assignment is None: \n",
    "    assignment = torch.zeros(data.shape[0])\n",
    "    assignment = assignment.to('cuda')\n",
    "    assignment = assignment.long()\n",
    "    \n",
    "    for it in range(iteration):\n",
    "        for i in range(0,n,bs):\n",
    "            s = slice(i, min(i+bs,n))\n",
    "            assignment[s] = ((data[s][:,None] - Cs[None])**2).sum(2).sqrt().argmin(dim=1).long().view(-1)\n",
    "            Cs.zero_()\n",
    "            Cs.scatter_add_(0,assignment[:,None].repeat(1,2),data)\n",
    "            NCs =  torch.bincount(assignment, minlength=K).type_as(Cs).view(K,1)\n",
    "            Cs /= NCs\n",
    "    return Cs, assignment.detach().cpu()"
   ]
  },
  {
   "cell_type": "code",
   "execution_count": 34,
   "id": "6fc9da85-4cf6-44db-a729-ba7a3bfccc02",
   "metadata": {},
   "outputs": [],
   "source": [
    "def test_gpu(data,iteration):\n",
    "    X = data.clone().to('cuda')\n",
    "    Cs,ass = kmeans_gpu(data=X,iteration=5)\n",
    "    return X.detach().cpu(),ass.detach().cpu(), Cs.detach().cpu()"
   ]
  },
  {
   "cell_type": "code",
   "execution_count": 35,
   "id": "57f93b83-0835-445b-a4b3-f3ed68d3fa17",
   "metadata": {},
   "outputs": [
    {
     "data": {
      "image/png": "[encoded data removed]",
      "text/plain": [
       "<Figure size 432x288 with 1 Axes>"
      ]
     },
     "metadata": {
      "needs_background": "light"
     },
     "output_type": "display_data"
    }
   ],
   "source": [
    "test = test_gpu(data,iteration=10)\n",
    "plot_data_kmeans(test[2], test[0],test[1] )"
   ]
  },
  {
   "cell_type": "code",
   "execution_count": 36,
   "id": "8e283589-2c53-4f9c-8ca8-28f8e56a8fb1",
   "metadata": {},
   "outputs": [
    {
     "name": "stdout",
     "output_type": "stream",
     "text": [
      "34.3 ms ± 2.11 ms per loop (mean ± std. dev. of 7 runs, 10 loops each)\n"
     ]
    }
   ],
   "source": [
    "%timeit -n 10 test_gpu(data,iteration=10)"
   ]
  },
  {
   "cell_type": "code",
   "execution_count": null,
   "id": "c434bee8-a93f-4313-be57-193d39b97569",
   "metadata": {},
   "outputs": [],
   "source": []
  }
 ],
 "metadata": {
  "kernelspec": {
   "display_name": "Python 3 (ipykernel)",
   "language": "python",
   "name": "python3"
  },
  "language_info": {
   "codemirror_mode": {
    "name": "ipython",
    "version": 3
   },
   "file_extension": ".py",
   "mimetype": "text/x-python",
   "name": "python",
   "nbconvert_exporter": "python",
   "pygments_lexer": "ipython3",
   "version": "3.9.13"
  }
 },
 "nbformat": 4,
 "nbformat_minor": 5
}
